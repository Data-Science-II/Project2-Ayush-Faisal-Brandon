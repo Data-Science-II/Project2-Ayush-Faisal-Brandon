{
 "cells": [
  {
   "cell_type": "code",
   "execution_count": 1,
   "id": "minute-abraham",
   "metadata": {},
   "outputs": [],
   "source": [
    "import pandas as pd \n",
    "import numpy as np\n",
    "import numpy.linalg as lalg\n",
    "import matplotlib.pyplot as plt \n",
    "import tensorflow as tf\n",
    "from tensorflow import keras\n",
    "from tensorflow.keras import layers\n",
    "import tensorflow.keras.regularizers as rg\n",
    "from sklearn.model_selection import KFold\n",
    "from Models import *"
   ]
  },
  {
   "cell_type": "code",
   "execution_count": 6,
   "id": "legal-tunisia",
   "metadata": {},
   "outputs": [],
   "source": [
    "auto = pd.read_csv(\"../data/auto-mpg.csv\")\n",
    "auto.fillna(auto.mean())\n",
    "x = auto[auto.columns[1:7]].to_numpy()\n",
    "ox = np.insert(x, 0, 1.0, axis = 1)\n",
    "y = auto[auto.columns[0]].to_numpy()"
   ]
  },
  {
   "cell_type": "code",
   "execution_count": 7,
   "id": "furnished-criticism",
   "metadata": {},
   "outputs": [],
   "source": [
    "ridge_perceptron = keras.Sequential()\n",
    "ridge_perceptron.add(layers.Dense(1, input_dim = 7, \n",
    "                                 kernel_initializer = \"uniform\", \n",
    "                                 activation = \"relu\", \n",
    "                                 use_bias = False,\n",
    "                                 kernel_regularizer = rg.l2(0.01)))\n",
    "\n",
    "optimizer = keras.optimizers.Adam(learning_rate = 0.0005)\n",
    "ridge_perceptron.compile(loss = \"mean_squared_error\", optimizer = optimizer)"
   ]
  },
  {
   "cell_type": "code",
   "execution_count": 8,
   "id": "broke-observation",
   "metadata": {},
   "outputs": [
    {
     "name": "stdout",
     "output_type": "stream",
     "text": [
      "Rsq = 0.5558958947658539 Rsq_cv = 0.7655218794941903\n"
     ]
    }
   ],
   "source": [
    "ridge_perceptron.fit(ox, y, epochs = 50, batch_size = 10, verbose = 0)\n",
    "rsq = metrics.rsq(ridge_perceptron, ox, y)\n",
    "rsq_cv = metrics.rsq_cv(ridge_perceptron, ox, y, epochs = 50)\n",
    "print(f\"Rsq = {rsq} Rsq_cv = {rsq_cv}\")"
   ]
  },
  {
   "cell_type": "code",
   "execution_count": null,
   "id": "tight-collar",
   "metadata": {},
   "outputs": [],
   "source": []
  },
  {
   "cell_type": "code",
   "execution_count": 24,
   "id": "removed-johnson",
   "metadata": {},
   "outputs": [
    {
     "name": "stdout",
     "output_type": "stream",
     "text": [
      "Model: \"sequential_169\"\n",
      "_________________________________________________________________\n",
      "Layer (type)                 Output Shape              Param #   \n",
      "=================================================================\n",
      "dense_348 (Dense)            (None, 7)                 49        \n",
      "_________________________________________________________________\n",
      "dense_349 (Dense)            (None, 3)                 24        \n",
      "_________________________________________________________________\n",
      "dense_350 (Dense)            (None, 1)                 4         \n",
      "=================================================================\n",
      "Total params: 77\n",
      "Trainable params: 77\n",
      "Non-trainable params: 0\n",
      "_________________________________________________________________\n",
      "([-6.651878356933594e-05, 0.6908594965934753, 0.707196831703186, 0.7152862250804901, 0.7274307012557983], [-0.0025919392855480172, 0.6892942282217968, 0.7049673659547331, 0.7123883749540829, 0.7239540520371224], [-0.013786303997039794, 0.7124823346734047, 0.7208663627505303, 0.7583192408084869, 0.7565253116190434], [-3299.945213317871, -3765.2073764801025, -3784.8170013427734, -3793.967405319214, -3809.316822052002])\n"
     ]
    }
   ],
   "source": [
    "class NeuralNet4L (Perceptron):\n",
    "    def __init__(self, data, response): \n",
    "        \"\"\"\n",
    "        Builds a 3 Layer Nueral Network based on the input data. \n",
    "        \n",
    "        Keyword Arguments: \n",
    "        \n",
    "        data -- the x variable matrix \n",
    "        response -- the y response vector \n",
    "        \"\"\"\n",
    "        self.x = data\n",
    "        self.y = response\n",
    "        self.k = self.x.shape[1] - 1\n",
    "        self.n = self.x.shape[0]\n",
    "        self.model = NeuralNet4L.build_model(self.x, self.y)\n",
    "    \n",
    "    def build_model(x, y, suppress = False, width1 = 0, width2 = 0): \n",
    "        k = x.shape[1] - 1\n",
    "        #Default Width Value\n",
    "        if (width1 == 0): \n",
    "            width1 = k + 1\n",
    "            \n",
    "        if (width2 == 0): \n",
    "            width2 = width1//2\n",
    "        \n",
    "        model = keras.Sequential()\n",
    "        model.add(layers.Dense(width1, input_dim = x.shape[1], \n",
    "                               kernel_initializer = \"normal\", \n",
    "                               use_bias = False,\n",
    "                               activation = \"relu\", ))\n",
    "        model.add(layers.Dense(width2,\n",
    "                              kernel_initializer = \"normal\", \n",
    "                              activation = \"relu\"))\n",
    "        model.add(layers.Dense(1, kernel_initializer = \"normal\"))\n",
    "        model.compile(loss = \"mean_squared_error\", optimizer = \"adam\")\n",
    "        if not suppress: \n",
    "            model.summary()\n",
    "        return model\n",
    "    \n",
    "    def forward_selection(self, iter = 200): \n",
    "        return VariableSelection.forward_selection(self.x, self.y, \n",
    "                                                   NeuralNet4L.build_model,\n",
    "                                                   iter)\n",
    "    \n",
    "    def backward_elimination(self, iter = 200):\n",
    "         return VariableSelection.backward_elimination(self.x, self.y, \n",
    "                                                   NeuralNet4L.build_model,\n",
    "                                                   iter)\n",
    "    \n",
    "    def stepwise_regression(self, iter = 200): \n",
    "         return VariableSelection.stepwise_regression(self.x, self.y, \n",
    "                                                      NeuralNet4L.build_model,\n",
    "                                                      iter)\n",
    "\n",
    "\n",
    "auto_4L = NeuralNet4L(ox, y)\n",
    "\n",
    "\n",
    "print(auto_4L.stepwise_regression())"
   ]
  },
  {
   "cell_type": "code",
   "execution_count": 7,
   "id": "ruled-madonna",
   "metadata": {
    "scrolled": false
   },
   "outputs": [
    {
     "name": "stdout",
     "output_type": "stream",
     "text": [
      "0.03551584482192993\n",
      "0.020715576456026064\n"
     ]
    }
   ],
   "source": []
  }
 ],
 "metadata": {
  "kernelspec": {
   "display_name": "Python 3",
   "language": "python",
   "name": "python3"
  },
  "language_info": {
   "codemirror_mode": {
    "name": "ipython",
    "version": 3
   },
   "file_extension": ".py",
   "mimetype": "text/x-python",
   "name": "python",
   "nbconvert_exporter": "python",
   "pygments_lexer": "ipython3",
   "version": "3.7.10"
  }
 },
 "nbformat": 4,
 "nbformat_minor": 5
}
