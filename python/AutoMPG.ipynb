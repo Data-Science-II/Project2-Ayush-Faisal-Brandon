{
 "cells": [
  {
   "cell_type": "code",
   "execution_count": 1,
   "id": "closing-anthony",
   "metadata": {},
   "outputs": [],
   "source": [
    "import pandas as pd \n",
    "import numpy as np\n",
    "import numpy.linalg as lalg\n",
    "import matplotlib.pyplot as plt \n",
    "import tensorflow as tf\n",
    "from tensorflow import keras\n",
    "from tensorflow.keras import layers\n",
    "from sklearn.model_selection import KFold\n",
    "from Models import *"
   ]
  },
  {
   "cell_type": "code",
   "execution_count": 2,
   "id": "legendary-vinyl",
   "metadata": {},
   "outputs": [],
   "source": [
    "auto = pd.read_csv(\"../data/auto-mpg.csv\")\n",
    "auto.fillna(auto.mean())\n",
    "x = auto[auto.columns[1:7]].to_numpy()\n",
    "ox = np.insert(x, 0, 1.0, axis = 1)\n",
    "ox = ox/lalg.norm(ox)\n",
    "y = auto[auto.columns[0]].to_numpy()\n",
    "y = y/lalg.norm(y)"
   ]
  },
  {
   "cell_type": "code",
   "execution_count": 3,
   "id": "floppy-maria",
   "metadata": {},
   "outputs": [
    {
     "name": "stdout",
     "output_type": "stream",
     "text": [
      "([-0.6628036499023438, -0.3184347152709961, -0.1292724609375, -0.05890524387359619, -0.029529333114624023, -0.024415135383605957], [-0.6670026490182588, -0.3251103340824948, -0.1378709822136739, -0.06968290538884903, -0.04266108481251463, -0.04013506073476103], [-0.9012574315071106, 0.2406292140483856, 0.26946056485176084, 0.2961576014757156, 0.4208842009305954, 0.42246403694152834], [-3097.5866556167603, -3187.946517944336, -3247.5851707458496, -3271.191967010498, -3280.389057159424, -3280.3711318969727])\n"
     ]
    }
   ],
   "source": [
    "auto_perceptron = Perceptron(ox, y, 0.1)\n",
    "\n",
    "print(auto_perceptron.stepwise_regression())"
   ]
  },
  {
   "cell_type": "code",
   "execution_count": 16,
   "id": "headed-marketing",
   "metadata": {},
   "outputs": [
    {
     "name": "stdout",
     "output_type": "stream",
     "text": [
      "\n",
      "                    ToBeat = -0.6669578326470924 \n",
      "\n",
      "                    BestElim = -10.666957832647093 \n",
      "\n",
      "                    BestAdd = -0.6669578326470924\n",
      "\n",
      "                    ToBeat = -0.32701547870153114 \n",
      "\n",
      "                    BestElim = -806.511962890625 \n",
      "\n",
      "                    BestAdd = -0.32701547870153114\n",
      "\n",
      "                    ToBeat = -0.13880585262618084 \n",
      "\n",
      "                    BestElim = -0.6669746836026509 \n",
      "\n",
      "                    BestAdd = -0.13880585262618084\n",
      "\n",
      "                    ToBeat = -0.0722895733272757 \n",
      "\n",
      "                    BestElim = -0.3254713302926173 \n",
      "\n",
      "                    BestAdd = -0.0722895733272757\n",
      "\n",
      "                    ToBeat = -0.04348156464343167 \n",
      "\n",
      "                    BestElim = -0.13920584215125453 \n",
      "\n",
      "                    BestAdd = -0.04348156464343167\n",
      "\n",
      "                    ToBeat = -0.04348156464343167 \n",
      "\n",
      "                    BestElim = -0.06976286600564263 \n",
      "\n",
      "                    BestAdd = -0.04399183430635101\n"
     ]
    },
    {
     "data": {
      "text/plain": [
       "([-0.6627589464187622,\n",
       "  -0.32033026218414307,\n",
       "  -0.13020026683807373,\n",
       "  -0.0614856481552124,\n",
       "  -0.030339479446411133],\n",
       " [-0.6669578326470924,\n",
       "  -0.32701547870153114,\n",
       "  -0.13880585262618084,\n",
       "  -0.0722895733272757,\n",
       "  -0.04348156464343167],\n",
       " [-0.8063548922538757,\n",
       "  0.23651014566421508,\n",
       "  0.2569257378578186,\n",
       "  0.3345630705356598,\n",
       "  0.3731897085905075],\n",
       " [-3097.5972833633423,\n",
       "  -3187.374517440796,\n",
       "  -3247.258367538452,\n",
       "  -3270.2233238220215,\n",
       "  -3280.0762977600098])"
      ]
     },
     "execution_count": 16,
     "metadata": {},
     "output_type": "execute_result"
    }
   ],
   "source": [
    "VariableSelection.stepwise_regression(ox, y, Perceptron.build_model, 1000)"
   ]
  },
  {
   "cell_type": "code",
   "execution_count": null,
   "id": "neutral-bibliography",
   "metadata": {},
   "outputs": [],
   "source": []
  },
  {
   "cell_type": "code",
   "execution_count": 24,
   "id": "nominated-contest",
   "metadata": {},
   "outputs": [
    {
     "name": "stdout",
     "output_type": "stream",
     "text": [
      "Model: \"sequential_169\"\n",
      "_________________________________________________________________\n",
      "Layer (type)                 Output Shape              Param #   \n",
      "=================================================================\n",
      "dense_348 (Dense)            (None, 7)                 49        \n",
      "_________________________________________________________________\n",
      "dense_349 (Dense)            (None, 3)                 24        \n",
      "_________________________________________________________________\n",
      "dense_350 (Dense)            (None, 1)                 4         \n",
      "=================================================================\n",
      "Total params: 77\n",
      "Trainable params: 77\n",
      "Non-trainable params: 0\n",
      "_________________________________________________________________\n",
      "([-6.651878356933594e-05, 0.6908594965934753, 0.707196831703186, 0.7152862250804901, 0.7274307012557983], [-0.0025919392855480172, 0.6892942282217968, 0.7049673659547331, 0.7123883749540829, 0.7239540520371224], [-0.013786303997039794, 0.7124823346734047, 0.7208663627505303, 0.7583192408084869, 0.7565253116190434], [-3299.945213317871, -3765.2073764801025, -3784.8170013427734, -3793.967405319214, -3809.316822052002])\n"
     ]
    }
   ],
   "source": [
    "class NeuralNet4L (Perceptron):\n",
    "    def __init__(self, data, response): \n",
    "        \"\"\"\n",
    "        Builds a 3 Layer Nueral Network based on the input data. \n",
    "        \n",
    "        Keyword Arguments: \n",
    "        \n",
    "        data -- the x variable matrix \n",
    "        response -- the y response vector \n",
    "        \"\"\"\n",
    "        self.x = data\n",
    "        self.y = response\n",
    "        self.k = self.x.shape[1] - 1\n",
    "        self.n = self.x.shape[0]\n",
    "        self.model = NeuralNet4L.build_model(self.x, self.y)\n",
    "    \n",
    "    def build_model(x, y, suppress = False, width1 = 0, width2 = 0): \n",
    "        k = x.shape[1] - 1\n",
    "        #Default Width Value\n",
    "        if (width1 == 0): \n",
    "            width1 = k + 1\n",
    "            \n",
    "        if (width2 == 0): \n",
    "            width2 = width1//2\n",
    "        \n",
    "        model = keras.Sequential()\n",
    "        model.add(layers.Dense(width1, input_dim = x.shape[1], \n",
    "                               kernel_initializer = \"normal\", \n",
    "                               use_bias = False,\n",
    "                               activation = \"relu\", ))\n",
    "        model.add(layers.Dense(width2,\n",
    "                              kernel_initializer = \"normal\", \n",
    "                              activation = \"relu\"))\n",
    "        model.add(layers.Dense(1, kernel_initializer = \"normal\"))\n",
    "        model.compile(loss = \"mean_squared_error\", optimizer = \"adam\")\n",
    "        if not suppress: \n",
    "            model.summary()\n",
    "        return model\n",
    "    \n",
    "    def forward_selection(self, iter = 200): \n",
    "        return VariableSelection.forward_selection(self.x, self.y, \n",
    "                                                   NeuralNet4L.build_model,\n",
    "                                                   iter)\n",
    "    \n",
    "    def backward_elimination(self, iter = 200):\n",
    "         return VariableSelection.backward_elimination(self.x, self.y, \n",
    "                                                   NeuralNet4L.build_model,\n",
    "                                                   iter)\n",
    "    \n",
    "    def stepwise_regression(self, iter = 200): \n",
    "         return VariableSelection.stepwise_regression(self.x, self.y, \n",
    "                                                      NeuralNet4L.build_model,\n",
    "                                                      iter)\n",
    "\n",
    "\n",
    "auto_4L = NeuralNet4L(ox, y)\n",
    "\n",
    "\n",
    "print(auto_4L.stepwise_regression())"
   ]
  },
  {
   "cell_type": "code",
   "execution_count": 7,
   "id": "visible-desperate",
   "metadata": {
    "scrolled": false
   },
   "outputs": [
    {
     "name": "stdout",
     "output_type": "stream",
     "text": [
      "0.03551584482192993\n",
      "0.020715576456026064\n"
     ]
    }
   ],
   "source": []
  }
 ],
 "metadata": {
  "kernelspec": {
   "display_name": "Python 3",
   "language": "python",
   "name": "python3"
  },
  "language_info": {
   "codemirror_mode": {
    "name": "ipython",
    "version": 3
   },
   "file_extension": ".py",
   "mimetype": "text/x-python",
   "name": "python",
   "nbconvert_exporter": "python",
   "pygments_lexer": "ipython3",
   "version": "3.7.10"
  }
 },
 "nbformat": 4,
 "nbformat_minor": 5
}
