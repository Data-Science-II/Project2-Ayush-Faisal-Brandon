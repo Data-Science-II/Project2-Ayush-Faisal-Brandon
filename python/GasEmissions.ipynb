{
 "cells": [
  {
   "cell_type": "code",
   "execution_count": 1,
   "id": "ruled-guest",
   "metadata": {},
   "outputs": [],
   "source": [
    "import pandas as pd \n",
    "import numpy as np \n",
    "import numpy.linalg as lalg\n",
    "import matplotlib.pyplot as plt \n",
    "import tensorflow as tf\n",
    "from tensorflow import keras\n",
    "from tensorflow.keras import layers\n",
    "import tensorflow.keras.regularizers as rg\n",
    "from sklearn.model_selection import KFold\n",
    "from Models import *"
   ]
  },
  {
   "cell_type": "code",
   "execution_count": 2,
   "id": "exposed-detective",
   "metadata": {},
   "outputs": [],
   "source": [
    "emissions = pd.read_csv(\"../data/emissions.csv\")\n",
    "emissions.fillna(emissions.mean())\n",
    "x = emissions[emissions.columns[1:11]].to_numpy()\n",
    "ox = np.insert(x, 10, 1.0, axis = 1)\n",
    "y = emissions[emissions.columns[0]].to_numpy()"
   ]
  },
  {
   "cell_type": "code",
   "execution_count": null,
   "id": "first-length",
   "metadata": {},
   "outputs": [
    {
     "name": "stdout",
     "output_type": "stream",
     "text": [
      "Model: \"sequential\"\n",
      "_________________________________________________________________\n",
      "Layer (type)                 Output Shape              Param #   \n",
      "=================================================================\n",
      "dense (Dense)                (None, 1)                 11        \n",
      "=================================================================\n",
      "Total params: 11\n",
      "Trainable params: 11\n",
      "Non-trainable params: 0\n",
      "_________________________________________________________________\n"
     ]
    }
   ],
   "source": [
    "auto_perceptron = Perceptron(ox, y, 0.1, build_fn = Perceptron.build_model)\n",
    "forward_pcp = auto_perceptron.forward_selection(5000)\n",
    "backward_pcp = auto_perceptron.backward_elimination(5000)\n",
    "step_pcp = auto_perceptron.stepwise_regression(5000)"
   ]
  },
  {
   "cell_type": "code",
   "execution_count": null,
   "id": "clean-cruise",
   "metadata": {},
   "outputs": [],
   "source": [
    "auto_3L = NeuralNet3L(ox, y, build_fn = NeuralNet3L.build_model)\n",
    "forward_3L = auto_3L.forward_selection()\n",
    "backward_3L = auto_3L.backward_elimination()\n",
    "step_3L = auto_3L.stepwise_regression()"
   ]
  },
  {
   "cell_type": "code",
   "execution_count": null,
   "id": "economic-logic",
   "metadata": {},
   "outputs": [],
   "source": [
    "auto_4L = NeuralNet4L(ox, y, build_fn = NeuralNet4L.build_model)\n",
    "forward_4L = auto_4L.forward_selection()\n",
    "backward_4L = auto_4L.backward_elimination()\n",
    "step_4L = auto_4L.stepwise_regression()"
   ]
  },
  {
   "cell_type": "code",
   "execution_count": null,
   "id": "robust-development",
   "metadata": {},
   "outputs": [],
   "source": [
    "ridge_perceptron = keras.Sequential()\n",
    "ridge_perceptron.add(layers.Dense(1, input_dim = 11, \n",
    "                                 kernel_initializer = \"uniform\", \n",
    "                                 activation = \"relu\", \n",
    "                                 use_bias = False,\n",
    "                                 kernel_regularizer = rg.l2(0.01)))\n",
    "\n",
    "optimizer = keras.optimizers.Adam(learning_rate = 0.0005)\n",
    "ridge_perceptron.compile(loss = \"mean_squared_error\", optimizer = optimizer)"
   ]
  },
  {
   "cell_type": "code",
   "execution_count": null,
   "id": "surrounded-revision",
   "metadata": {},
   "outputs": [],
   "source": [
    "ridge_perceptron.fit(ox, y, epochs = 50, batch_size = 10, verbose = 0)\n",
    "rsq = metrics.rsq(ridge_perceptron, ox, y)\n",
    "rsq_cv = metrics.rsq_cv(ridge_perceptron, ox, y, epochs = 50)\n",
    "print(f\"Rsq = {rsq} Rsq_cv = {rsq_cv}\")"
   ]
  },
  {
   "cell_type": "code",
   "execution_count": null,
   "id": "aerial-organizer",
   "metadata": {},
   "outputs": [],
   "source": [
    "def plot_and_save(arrays, name, basepath = \"../plots/python/\"): \n",
    "    rsq, rsq_a, rsq_cv, aic = arrays\n",
    "    x = [_ for _ in range(len(rsq))]\n",
    "    plt.style.use(\"fivethirtyeight\")\n",
    "    plt.rcParams[\"figure.figsize\"] = [10,10]\n",
    "    plt.plot(x, np.array([rsq, rsq_a, rsq_cv]).transpose())\n",
    "    plt.xlabel(\"Number of variables\")\n",
    "    plt.ylabel(\"Rsq Value\")\n",
    "    plt.legend([\"Rsq\", \"RsqAdj\", \"RsqCV\"])\n",
    "    plt.savefig(basepath+name)\n",
    "    plt.show()\n",
    "    \n",
    "    plt.style.use(\"fivethirtyeight\")\n",
    "    plt.plot(x, aic)\n",
    "    plt.xlabel(\"Number of Variables\")\n",
    "    plt.ylabel(\"AIC\")\n",
    "    plt.savefig(basepath+\"AIC\"+name)\n",
    "    plt.show()\n",
    "    \n",
    "plot_and_save(forward_pcp, \"AutoForwardPCP.png\")\n",
    "plot_and_save(backward_pcp, \"BackWardPCP.png\")\n",
    "plot_and_save(step_pcp, \"StepwisePCP.png\")\n",
    "\n",
    "plot_and_save(forward_3L, \"AutoForward3L.png\")\n",
    "plot_and_save(backward_3L, \"BackWard3L.png\")\n",
    "plot_and_save(step_3L, \"Stepwise3L.png\")\n",
    "\n",
    "plot_and_save(forward_4L, \"AutoForward4L.png\")\n",
    "plot_and_save(backward_4L, \"BackWard4L.png\")\n",
    "plot_and_save(step_4L, \"Stepwise4L.png\")"
   ]
  },
  {
   "cell_type": "code",
   "execution_count": null,
   "id": "hollow-costa",
   "metadata": {},
   "outputs": [],
   "source": []
  }
 ],
 "metadata": {
  "kernelspec": {
   "display_name": "Python 3",
   "language": "python",
   "name": "python3"
  },
  "language_info": {
   "codemirror_mode": {
    "name": "ipython",
    "version": 3
   },
   "file_extension": ".py",
   "mimetype": "text/x-python",
   "name": "python",
   "nbconvert_exporter": "python",
   "pygments_lexer": "ipython3",
   "version": "3.7.10"
  }
 },
 "nbformat": 4,
 "nbformat_minor": 5
}
